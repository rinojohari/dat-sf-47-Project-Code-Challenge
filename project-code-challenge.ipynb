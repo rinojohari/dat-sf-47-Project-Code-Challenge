{
 "cells": [
  {
   "cell_type": "markdown",
   "metadata": {},
   "source": [
    "<img src=\"http://imgur.com/1ZcRyrc.png\" style=\"float: left; margin: 20px; height: 55px\">\n",
    "\n",
    "# Project 1: Python Coding Exercises\n",
    "\n",
    "---"
   ]
  },
  {
   "cell_type": "markdown",
   "metadata": {},
   "source": [
    "The following code challenges are drawn from common exercises used in technical interviews.\n",
    "\n",
    "Please note that there may be several ways to approach each challenge. If you get stuck, try mapping out your approach in pseudocode first. Finally, while solutions to problems like these may be found online, remember that if you copy/paste code that you can't explain, you'll be missing out on the point of the project. The only way to truly learn a new skill is through practice, trial, and error - we can only help you improve by understanding where you are having trouble."
   ]
  },
  {
   "cell_type": "markdown",
   "metadata": {},
   "source": [
    "### Challenge 1: Largest Palindrome\n",
    "A palindromic number reads the same both ways. For example, 1234321 is a palindrome. The largest palindrome made from the product of two two-digit numbers is 9009 = 91 × 99. Find the largest palindrome made from the product of two three-digit numbers. Afterward, write a brief explanation walking through your code's logic in markdown."
   ]
  },
  {
   "cell_type": "code",
   "execution_count": 101,
   "metadata": {},
   "outputs": [
    {
     "data": {
      "text/plain": [
       "906609"
      ]
     },
     "execution_count": 101,
     "metadata": {},
     "output_type": "execute_result"
    }
   ],
   "source": [
    "### Create a list of all numbers that are products of 3 digit numbers: three_product_list\n",
    "### Check which of those numbers in the three_product_list are palindromes and append to our list, palindrome_list\n",
    "### Sort the palindrome list and get the last/largest number on that list\n",
    "\n",
    "\n",
    "three_product_list = []\n",
    "\n",
    "for x in range(100,1000):\n",
    "    for y in range(100,1000):\n",
    "        three_product_list.append(x*y)\n",
    "\n",
    "palindrome_list = []\n",
    "\n",
    "for i in three_product_list:\n",
    "    if str(i) == str(i) [::-1]:\n",
    "        palindrome_list.append(i)\n",
    "        \n",
    "largest_palindrome = sorted(palindrome_list)[-1]\n",
    "largest_palindrome"
   ]
  },
  {
   "cell_type": "markdown",
   "metadata": {},
   "source": [
    "\n",
    "### Challenge 2: Summation of Primes\n",
    "The sum of the primes below 10 is 2 + 3 + 5 + 7 = 17. Find the sum of all the primes below 2,000. Afterward, write a brief explanation walking through your code's logic in markdown."
   ]
  },
  {
   "cell_type": "code",
   "execution_count": 126,
   "metadata": {},
   "outputs": [
    {
     "data": {
      "text/plain": [
       "277050"
      ]
     },
     "execution_count": 126,
     "metadata": {},
     "output_type": "execute_result"
    }
   ],
   "source": [
    "### We need to find all prime numbers from 2 to 2000 and add it to our list, prime_list.\n",
    "### Check if a number is a prime: if that (number) % (all numbers before that number, exlcuding 1) != 0 , it is a prime.\n",
    "### We then sum the numbers in the prime_list\n",
    "\n",
    "\n",
    "prime_list = []\n",
    "\n",
    "for number in range(2,2000):\n",
    "    check_prime = []\n",
    "    for i in range(2, number ): \n",
    "        if number % i == 0:\n",
    "            check_prime.append (i)\n",
    "    \n",
    "    if check_prime == []:\n",
    "        prime_list.append(number) \n",
    "        \n",
    "sum(prime_list)"
   ]
  },
  {
   "cell_type": "markdown",
   "metadata": {},
   "source": [
    "### Challenge 3: Multiples of 3 and 5\n",
    "If we list all of the natural numbers below 10 that are multiples of 3 or 5, we get 3, 5, 6, and 9. The sum of these multiples is 23. Find the sum of all the multiples of 3 and 5 below 1,000. Afterward, write a brief explanation walking through your code's logic in markdown."
   ]
  },
  {
   "cell_type": "code",
   "execution_count": 20,
   "metadata": {},
   "outputs": [
    {
     "data": {
      "text/plain": [
       "233168"
      ]
     },
     "execution_count": 20,
     "metadata": {},
     "output_type": "execute_result"
    }
   ],
   "source": [
    "### Create a list called natural_list with all the natural numbers below 1000 that is a multiple of 3 or 5.\n",
    "### We then just sum all the numbers in natural_list\n",
    "\n",
    "\n",
    "natural_list = []\n",
    "\n",
    "for number in range(1000):\n",
    "    if number % 3 == 0 or number %5 ==0 :\n",
    "        natural_list. append(number)\n",
    "\n",
    "sum (natural_list)\n",
    "\n"
   ]
  },
  {
   "cell_type": "markdown",
   "metadata": {},
   "source": [
    "### Challenge 4: String Compressor\n",
    "Implement a method to perform basic string compression using the counts of repeated characters. (This is called run-length encoding.) For example, the string \"aabcccccaaa\" would become a2b1c5a3. If the “compressed” string would not become smaller than the original string, your method should return the original string. You can assume the string has only uppercase and lowercase letters (a–z). Specify whether your solution is case sensitive or case insensitive and what you would need to change to make it the other. Afterward, write a brief explanation walking through your code's logic in markdown."
   ]
  },
  {
   "cell_type": "code",
   "execution_count": 124,
   "metadata": {},
   "outputs": [
    {
     "data": {
      "text/plain": [
       "'a2b1c1d1e1f1g1'"
      ]
     },
     "execution_count": 124,
     "metadata": {},
     "output_type": "execute_result"
    }
   ],
   "source": [
    "### Define a function\n",
    "### Define variable to count how many times a character is iterated before a new character\n",
    "### Define variable to show the current character\n",
    "### Define variable to count how many times a new character is iterated. This is to print original string when it\n",
    "### cannot be compressed.\n",
    "### Append to a new_string, the current character + counter whenerver a new character is iterated\n",
    "### If dist counter == len of original string, print new string\n",
    "### This code is not case sensitive. To be case sensitive, need to change char to char.lower(), except when it is first defined\n",
    "\n",
    "\n",
    "\n",
    "def comp_string (string):\n",
    "\n",
    "    new_string = \"\"\n",
    "    current_character = \"\"\n",
    "    counter = 0\n",
    "    dist_counter = 0\n",
    "    \n",
    "    for char in string:\n",
    "        \n",
    "        if current_character != char:\n",
    "            if counter != 0:\n",
    "                new_string += current_character + str(counter)\n",
    "                \n",
    "            current_character = char\n",
    "            counter = 1\n",
    "            dist_counter += 1\n",
    "            \n",
    "        else:\n",
    "            counter += 1\n",
    "            \n",
    "    new_string +=current_character + str(counter)\n",
    "    \n",
    "    \n",
    "    if dist_counter == len(string):\n",
    "        return string\n",
    "    else:\n",
    "        return new_string\n",
    "\n",
    "comp_string (\"aabcdefg\")\n"
   ]
  },
  {
   "cell_type": "markdown",
   "metadata": {},
   "source": [
    "### *BONUS* Challenge: FizzBuzz\n",
    "Write a program that prints all of the numbers from 1 to 100. For multiples of 3, instead of the number, print \"Fizz;\" for multiples of 5, print \"Buzz.\" For numbers that are multiples of both 3 and 5, print \"FizzBuzz.\" Afterward, write a brief explanation walking through your code's logic in markdown."
   ]
  },
  {
   "cell_type": "code",
   "execution_count": 13,
   "metadata": {},
   "outputs": [
    {
     "name": "stdout",
     "output_type": "stream",
     "text": [
      "1\n",
      "2\n",
      "Fizz\n",
      "4\n",
      "Buzz\n",
      "Fizz\n",
      "7\n",
      "8\n",
      "Fizz\n",
      "Buzz\n",
      "11\n",
      "Fizz\n",
      "13\n",
      "14\n",
      "FizzBuzz\n",
      "16\n",
      "17\n",
      "Fizz\n",
      "19\n",
      "Buzz\n",
      "Fizz\n",
      "22\n",
      "23\n",
      "Fizz\n",
      "Buzz\n",
      "26\n",
      "Fizz\n",
      "28\n",
      "29\n",
      "FizzBuzz\n",
      "31\n",
      "32\n",
      "Fizz\n",
      "34\n",
      "Buzz\n",
      "Fizz\n",
      "37\n",
      "38\n",
      "Fizz\n",
      "Buzz\n",
      "41\n",
      "Fizz\n",
      "43\n",
      "44\n",
      "FizzBuzz\n",
      "46\n",
      "47\n",
      "Fizz\n",
      "49\n",
      "Buzz\n",
      "Fizz\n",
      "52\n",
      "53\n",
      "Fizz\n",
      "Buzz\n",
      "56\n",
      "Fizz\n",
      "58\n",
      "59\n",
      "FizzBuzz\n",
      "61\n",
      "62\n",
      "Fizz\n",
      "64\n",
      "Buzz\n",
      "Fizz\n",
      "67\n",
      "68\n",
      "Fizz\n",
      "Buzz\n",
      "71\n",
      "Fizz\n",
      "73\n",
      "74\n",
      "FizzBuzz\n",
      "76\n",
      "77\n",
      "Fizz\n",
      "79\n",
      "Buzz\n",
      "Fizz\n",
      "82\n",
      "83\n",
      "Fizz\n",
      "Buzz\n",
      "86\n",
      "Fizz\n",
      "88\n",
      "89\n",
      "FizzBuzz\n",
      "91\n",
      "92\n",
      "Fizz\n",
      "94\n",
      "Buzz\n",
      "Fizz\n",
      "97\n",
      "98\n",
      "Fizz\n",
      "Buzz\n"
     ]
    }
   ],
   "source": [
    "### Every 15th number will be \"FizzBuzz\". Therefore we need to test whether each number is a multiple of 15 first, since 15 is\n",
    "### a multiple of 3 and 5. \n",
    "\n",
    "for number in range(1,101):\n",
    "    \n",
    "    if number % 15 == 0:\n",
    "        print (\"FizzBuzz\")\n",
    "    elif number % 3 == 0:\n",
    "        print (\"Fizz\")\n",
    "    elif number % 5 == 0:\n",
    "        print (\"Buzz\")\n",
    "    else:\n",
    "        print (number)"
   ]
  }
 ],
 "metadata": {
  "anaconda-cloud": {},
  "kernelspec": {
   "display_name": "Python 3",
   "language": "python",
   "name": "python3"
  },
  "language_info": {
   "codemirror_mode": {
    "name": "ipython",
    "version": 3
   },
   "file_extension": ".py",
   "mimetype": "text/x-python",
   "name": "python",
   "nbconvert_exporter": "python",
   "pygments_lexer": "ipython3",
   "version": "3.6.4"
  }
 },
 "nbformat": 4,
 "nbformat_minor": 2
}
